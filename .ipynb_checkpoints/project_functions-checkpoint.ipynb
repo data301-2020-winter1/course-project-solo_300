{
 "cells": [
  {
   "cell_type": "code",
   "execution_count": null,
   "metadata": {},
   "outputs": [],
   "source": [
    "import pandas as pd\n",
    "import numpy as np\n",
    "from sklearn.datasets import load_insurance\n",
    "\n",
    "def load_and_process(\"C:\\Users\\Karl\\Documents\\ProjCOSC301\\course-project-solo_300\\data\\raw\\Medical_Cost.csv\"):\n",
    "\n",
    "    df = (   \n",
    "        pd.DataFrame(data.data,columns=data.feature_names)\n",
    "        .drop(['Region'], axis=1)\n",
    "        .dropna()\n",
    "        .sort_values(\"Age\", ascending=True)\n",
    "        .reset_index(drop=True)\n",
    "    )\n",
    "    return df"
   ]
  }
 ],
 "metadata": {
  "kernelspec": {
   "display_name": "Python 3",
   "language": "python",
   "name": "python3"
  },
  "language_info": {
   "codemirror_mode": {
    "name": "ipython",
    "version": 3
   },
   "file_extension": ".py",
   "mimetype": "text/x-python",
   "name": "python",
   "nbconvert_exporter": "python",
   "pygments_lexer": "ipython3",
   "version": "3.8.3"
  }
 },
 "nbformat": 4,
 "nbformat_minor": 4
}
