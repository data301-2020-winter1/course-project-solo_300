{
 "cells": [
  {
   "cell_type": "code",
   "execution_count": null,
   "metadata": {},
   "outputs": [],
   "source": [
    "import pandas as pd\n",
    "import numpy as np\n",
    "import seaborn as sns\n",
    "from sklearn.datasets import load_insurance\n",
    "\n",
    "def load_and_process(\"C:\\Users\\Karl\\Documents\\ProjCOSC301\\course-project-solo_300\\data\\raw\\Medical_Cost.csv\"):\n",
    "\n",
    "    df = (   \n",
    "        pd.DataFrame(data.data,columns=data.feature_names)\n",
    "        .drop(['Region'], axis=1)\n",
    "        .dropna()\n",
    "        .sort_values(\"Age\", ascending=True)\n",
    "        .reset_index(drop=True)\n",
    "    )\n",
    "    return df\n",
    "\n",
    "#Graphs\n",
    "sns.set_theme(style=\"whitegrid\")\n",
    "data = sns.load_dataset(\"Medical_Cost.csv\")\n",
    "#Age\n",
    "sb.barplot(data = df, x = 'age', y = 'charges', order = ['18-23', '24-39','30-35','36-41','42-47', '48-53', '54-59', '60-65']);\n",
    "plt.xlabel('Age of patient');\n",
    "plt.ylabel('Hospital charges');\n",
    "plt.show()\n",
    "#Sex\n",
    "sb.barplot(data = df, x = 'sex', y = 'charges',);\n",
    "plt.xlabel('Sex of patient');\n",
    "plt.ylabel('Hospital charges');\n",
    "plt.show()\n",
    "#Children\n",
    "sb.barplot(data = df, x = 'children', y = 'charges',);\n",
    "plt.xlabel('Number of children');\n",
    "plt.ylabel('Hospital charges');\n",
    "plt.show()\n",
    "#Smoker\n",
    "sb.barplot(data = df, x = 'smoker', y = 'charges',);\n",
    "plt.xlabel('Smoker or Non-Smoker');\n",
    "plt.ylabel('Hospital charges');\n",
    "plt.show()"
   ]
  }
 ],
 "metadata": {
  "kernelspec": {
   "display_name": "Python 3",
   "language": "python",
   "name": "python3"
  },
  "language_info": {
   "codemirror_mode": {
    "name": "ipython",
    "version": 3
   },
   "file_extension": ".py",
   "mimetype": "text/x-python",
   "name": "python",
   "nbconvert_exporter": "python",
   "pygments_lexer": "ipython3",
   "version": "3.8.3"
  }
 },
 "nbformat": 4,
 "nbformat_minor": 4
}
